{
 "cells": [
  {
   "cell_type": "code",
   "execution_count": 2,
   "metadata": {
    "collapsed": false
   },
   "outputs": [
   ],
   "source": [
    "def oddaljenost_i_j(matrika,i,j):  #izračuna dolžino najkrajše poti med i in j\n",
    "    n = matrika.nrows()\n",
    "    rd = range(0,n)\n",
    "    razdalja = 0\n",
    "    if matrika[i,j] != 0:\n",
    "        razdalja = 1\n",
    "    else:\n",
    "        for l in range(2,n):\n",
    "            if (matrika^l)[i,j] != 0:\n",
    "                while razdalja == 0:\n",
    "                    razdalja = l\n",
    "    return razdalja\n",
    "\n",
    "def povprecje_sprehodov(matrika,k):   #sešteje najkrajše razdalje do drugih vozlišč in to deli s številom vozlišč-1\n",
    "    koraki = 0\n",
    "    for i in range(0, matrika.nrows):\n",
    "        if i != k:\n",
    "            koraki += oddaljenost_i_j(matrika,i,k)\n",
    "        else:\n",
    "            pass\n",
    "    return koraki/(matrika.nrows()-1)\n",
    "\n",
    "\n",
    "import random\n",
    "\n",
    "def nakljucni_sprehod(matrika, k):  #vrne seznam prvega prihoda do vsakega vozlišča iz vozlišča k; sprehod je naključen\n",
    "    sez2 = list(range(0, (matrika.nrows())))  #seznam neobiskanih vozlišč\n",
    "    zacetno = k\n",
    "    a = len(sez2)\n",
    "    koraki = 0\n",
    "    koncni_sez = [0] * a\n",
    "    koncni_sez[zacetno] = 1  #v to vozlišče ni potrebno priti, na koncu popravimo na 0\n",
    "    sez2.remove(zacetno)  #odstranimo začetno vozlišče, ker v njega ni potrebno priti\n",
    "    while len(sez2) > 0:\n",
    "        sez3 = []\n",
    "        for k in range(0,matrika.nrows()):\n",
    "            for j in range(0,matrika.nrows()):\n",
    "                if matrika[k,j] != 0:  #naredimo seznam sosednjih vozlišč\n",
    "                    sez3.append(j)\n",
    "                else:\n",
    "                    pass\n",
    "        c = random.choice(sez3)  #naključno izbere v kako vozlišče se premaknemo\n",
    "        k = c   #k označuje trenutno vozlišče\n",
    "        sez3 = []\n",
    "        koraki += 1\n",
    "        if koncni_sez[c] == 0:\n",
    "            koncni_sez[c] = koraki   #dodamo število korakov, ki smo jih potrebovali, da smo prišli do tega vozlišča\n",
    "            sez2.remove(c)    #in ga odstranimo iz seznama neobiskanih vozlišč\n",
    "        else:\n",
    "            pass\n",
    "    koncni_sez[zacetno] = 0 #nastavimo začetno vozlišče nazaj na 0\n",
    "    return koncni_sez\n",
    "\n",
    "\n",
    "def n_nakljucnih_sprehodov(matrika,k,n):   #funkcija naredi n naključnih sprehodov iz k-tega vozlišča\n",
    "    d = matrika.nrows()\n",
    "    povp = [0] * d\n",
    "    for ponovitev in range(0,n):\n",
    "        v = nakljucni_sprehod(matrika,k)\n",
    "        for i in range(0,d):\n",
    "            povp[i] += v[i]\n",
    "    povp[:] = [x / n for x in povp]  #deli vse elemente z n; da dobimo povprečno dolžino\n",
    "    return povp\n",
    "\n",
    "def dolzina_vseh(matrika,n):  #naredi n naključnih sprehodov; vrne povprečno hitrost, s katero procesi naključnega sprehajanja dosežejo vozlišče iz drugih vozlišč v omrežju\n",
    "    d = matrika.nrows()\n",
    "    povp = [0] * d\n",
    "    for vozlisce in range(0,d):\n",
    "        v = n_nakljucnih_sprehodov(matrika,vozlisce,n)\n",
    "        for i in range(0,d):\n",
    "            povp[i] += v[i]\n",
    "    povp[:] = [x / (n-1)*d for x in povp]  #deli vse elemente s številom sprehodov; da dobimo povprečno dolžino\n",
    "    return povp\n",
    "\n",
    "def nsbc(matrika,n):   #izračuna oceno dolžino naključnega sprehoda bližine centralnosti glede na n naljučnih sprehodov iz vsakega vozlišča\n",
    "    rez = dolzina_vseh(matrika,n)\n",
    "    rez[:] = [1 / x for x in rez]\n",
    "    return rez"
   ]
  }
 ],
 "metadata": {
  "kernelspec": {
   "display_name": "SageMath 9.1",
   "language": "sagemath",
   "metadata": {
    "cocalc": {
     "description": "Open-source mathematical software system",
     "priority": 1,
     "url": "https://www.sagemath.org/"
    }
   },
   "name": "sage-9.1"
  },
  "language_info": {
   "codemirror_mode": {
    "name": "ipython",
    "version": 3
   },
   "file_extension": ".py",
   "mimetype": "text/x-python",
   "name": "python",
   "nbconvert_exporter": "python",
   "pygments_lexer": "ipython3",
   "version": "3.7.3"
  }
 },
 "nbformat": 4,
 "nbformat_minor": 4
}