{
 "cells": [
  {
   "cell_type": "code",
   "execution_count": 10,
   "metadata": {
    "collapsed": false
   },
   "outputs": [
   ],
   "source": [
    "def mat_2Dmreza(m, n):  #že vgrajena funkcija, .am() vrne matriko in ne grafa\n",
    "    return graphs.Grid2dGraph(m, n).am()\n",
    "\n",
    "def mat_3Dmreza(m, n, z):  #že vgrajena funkcija, .am() vrne matriko in ne grafa\n",
    "    return graphs.GridGraph([m, n, z]).am()\n",
    "\n",
    "def generator_binarnih_dreves(k): #vrne binarno drevo dolžine k\n",
    "    G = graphs.BalancedTree(2,k)\n",
    "    show(G)\n",
    "    return G\n",
    "\n",
    "def mat_binarno_drevo(k):   #vrne matriko za binarno drevo dolžine k\n",
    "    return graphs.BalancedTree(2, k).am()\n",
    "\n",
    "def generator_ciklicnih_grafov(k):\n",
    "    G = graphs.CycleGraph(k)\n",
    "    show(G)\n",
    "    return G\n",
    "\n",
    "def mat_ciklicni_graf(k):\n",
    "    return graphs.CycleGraph(k).am()\n",
    "\n",
    "def izris_grafa(matrika):  #izriše graf za dano matriko\n",
    "    matrika = Matrix(matrika)\n",
    "    G = Graph(matrika)\n",
    "    return G.plot().show()"
   ]
  }
 ],
 "metadata": {
  "kernelspec": {
   "display_name": "SageMath 9.1",
   "language": "sagemath",
   "metadata": {
    "cocalc": {
     "description": "Open-source mathematical software system",
     "priority": 1,
     "url": "https://www.sagemath.org/"
    }
   },
   "name": "sage-9.1"
  },
  "language_info": {
   "codemirror_mode": {
    "name": "ipython",
    "version": 3
   },
   "file_extension": ".py",
   "mimetype": "text/x-python",
   "name": "python",
   "nbconvert_exporter": "python",
   "pygments_lexer": "ipython3",
   "version": "3.7.3"
  }
 },
 "nbformat": 4,
 "nbformat_minor": 4
}