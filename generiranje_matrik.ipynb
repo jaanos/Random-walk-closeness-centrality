{
 "cells": [
  {
   "cell_type": "code",
   "execution_count": 6,
   "metadata": {
    "collapsed": false
   },
   "outputs": [
   ],
   "source": [
    "#naredi enako kot že vgrajena funkcija\n",
    "#def generiranje_matrik(m, n): \n",
    " #   d = m * n # število vrstic in stolpcev\n",
    "  #  rd = range(d) # obseg indeksov\n",
    "   # matrika = Matrix(d, d) # matrika samih ničel\n",
    "    #for i in rd:\n",
    "     #   for j in (i-1, i+1, i-n, i+n):\n",
    "      #      if j in rd:\n",
    "       #         matrika[i, j] = 1\n",
    "#    for i in range(0,d, n):\n",
    " #       matrika[i, i-1] = 0\n",
    "  #      matrika[i-1, i] = 0\n",
    "   # return matrika\n",
    "\n",
    "def mat_2Dmreza(m, n):  #že vgrajena funkcija, .am() vrne matriko in ne grafa\n",
    "    return graphs.Grid2dGraph(m, n).am()\n",
    "\n",
    "def mat_3Dmreza(m,n,z):   #m<n\n",
    "    if n < m:\n",
    "        b = m\n",
    "        m = n\n",
    "        n = b\n",
    "    k = m * n\n",
    "    rk = range(k)\n",
    "    d = m * n * z  #velikost matrike\n",
    "    rd = range(d)\n",
    "    matrika = Matrix(d,d)\n",
    "    for i in rk:  #prvo naredino matriko do m*n\n",
    "        for j in (i-1, i+1, i-n, i+n):\n",
    "            if j in rk:\n",
    "                matrika[i, j] = 1\n",
    "    for i in range(0,k,n):\n",
    "        matrika[i, i - 1] = 0\n",
    "        matrika[i, i - 1] = 0\n",
    "    for i in range(z):\n",
    "        for j in rk:\n",
    "            for l in rk:\n",
    "                matrika[j + i*k, l + i*k] = matrika[j, l]\n",
    "    for i in range(0,k*(z-1)):\n",
    "        matrika[i, k+i] = 1\n",
    "        matrika[k+i, i] = 1\n",
    "    return Matrix(matrika)\n",
    "\n",
    "def generator_binarnih_dreves(k): #vrne binarno drevo dolžine k\n",
    "    G = graphs.BalancedTree(2,k)\n",
    "    show(G)\n",
    "    return G\n",
    "\n",
    "def mat_binarno_drevo(k):   #vrne matriko za binarno drevo dolžine k\n",
    "    return graphs.BalancedTree(2, k).am()\n",
    "\n",
    "def generator_ciklicnih_grafov(k):\n",
    "    G = graphs.CycleGraph(k)\n",
    "    show(G)\n",
    "    return G\n",
    "\n",
    "def mat_ciklicni_graf(k):\n",
    "    return graphs.CycleGraph(k).am()\n",
    "\n",
    "def izris_grafa(matrika):  #izriše graf za dano matriko\n",
    "    matrika = Matrix(matrika)\n",
    "    G = Graph(matrika)\n",
    "    return G.plot().show()"
   ]
  }
 ],
 "metadata": {
  "kernelspec": {
   "display_name": "SageMath 9.1",
   "language": "sagemath",
   "metadata": {
    "cocalc": {
     "description": "Open-source mathematical software system",
     "priority": 1,
     "url": "https://www.sagemath.org/"
    }
   },
   "name": "sage-9.1"
  },
  "language_info": {
   "codemirror_mode": {
    "name": "ipython",
    "version": 3
   },
   "file_extension": ".py",
   "mimetype": "text/x-python",
   "name": "python",
   "nbconvert_exporter": "python",
   "pygments_lexer": "ipython3",
   "version": "3.7.3"
  }
 },
 "nbformat": 4,
 "nbformat_minor": 4
}